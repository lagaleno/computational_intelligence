{
  "nbformat": 4,
  "nbformat_minor": 0,
  "metadata": {
    "colab": {
      "provenance": [],
      "authorship_tag": "ABX9TyO34lIKqipuCLy1OsF3oE/I",
      "include_colab_link": true
    },
    "kernelspec": {
      "name": "python3",
      "display_name": "Python 3"
    },
    "language_info": {
      "name": "python"
    }
  },
  "cells": [
    {
      "cell_type": "markdown",
      "metadata": {
        "id": "view-in-github",
        "colab_type": "text"
      },
      "source": [
        "<a href=\"https://colab.research.google.com/github/lagaleno/computational_intelligence/blob/main/Lista1.ipynb\" target=\"_parent\"><img src=\"https://colab.research.google.com/assets/colab-badge.svg\" alt=\"Open In Colab\"/></a>"
      ]
    },
    {
      "cell_type": "code",
      "execution_count": null,
      "metadata": {
        "id": "cpJd6FKNaJf7"
      },
      "outputs": [],
      "source": [
        "# imports\n",
        "import numpy as np\n",
        "import matplotlib.pyplot as plt\n"
      ]
    },
    {
      "cell_type": "markdown",
      "source": [
        "# Utils"
      ],
      "metadata": {
        "id": "LuMXXB-UOG_7"
      }
    },
    {
      "cell_type": "code",
      "source": [
        "# constants\n",
        "\n",
        "# Limits\n",
        "UPPER_LIMIT = 1\n",
        "LOWER_LIMIT = -1"
      ],
      "metadata": {
        "id": "gDpnVAljaQYO"
      },
      "execution_count": null,
      "outputs": []
    },
    {
      "cell_type": "code",
      "source": [
        "def plotGraph(function, classified_points):\n",
        "  fig, ax = plt.subplots()\n",
        "  for point in classified_points:\n",
        "    plt.scatter(point['coordinates']['x'], point['coordinates']['y'], color=point['color'])\n",
        "  ax.axline(function['Point-A'], function['Point-B'])\n",
        "  plt.show"
      ],
      "metadata": {
        "id": "CpcUGYf8OI4I"
      },
      "execution_count": null,
      "outputs": []
    },
    {
      "cell_type": "markdown",
      "source": [
        "# Defined Target Function"
      ],
      "metadata": {
        "id": "IuY59f_fahjB"
      }
    },
    {
      "cell_type": "code",
      "source": [
        "def generateTargetFunction():\n",
        "  '''\n",
        "    Return a dictionary that represents cordinates (x, y)\n",
        "    of two points (point-a and point-b) randomly chosen\n",
        "  '''\n",
        "  point_a = np.random.uniform(LOWER_LIMIT, UPPER_LIMIT, 2)\n",
        "  point_b = np.random.uniform(LOWER_LIMIT, UPPER_LIMIT, 2)\n",
        "  \n",
        "  return {\n",
        "      'Point-A': point_a,\n",
        "      'Point-B': point_b,\n",
        "  }"
      ],
      "metadata": {
        "id": "aFlcImjKadz8"
      },
      "execution_count": null,
      "outputs": []
    },
    {
      "cell_type": "code",
      "source": [
        "def generatePoints(n):\n",
        "  '''\n",
        "    Return a dictonary with a list of x and y coordinates of n points\n",
        "  '''\n",
        "  points = np.random.uniform(LOWER_LIMIT, UPPER_LIMIT, (n, 2))\n",
        "\n",
        "  return points"
      ],
      "metadata": {
        "id": "t51AGlemnwpr"
      },
      "execution_count": null,
      "outputs": []
    },
    {
      "cell_type": "code",
      "source": [
        "def classify(target_function, points):\n",
        "  '''\n",
        "  Return:\n",
        "  [\n",
        "    {\n",
        "      coordinates:{\n",
        "        x: ...,\n",
        "        y: ...,\n",
        "      },\n",
        "      classification: -1 | +1,\n",
        "      color: red (-1) | green (+1)\n",
        "    },\n",
        "    ...\n",
        "  ]\n",
        "  '''\n",
        "  res = []\n",
        "  tf_vector = np.subtract(target_function['Point-A'], target_function['Point-B'])\n",
        "  # do cross product to see \"where\" the point is in reference with the target function vector\n",
        "  for point in points:\n",
        "    point_vector = np.subtract(target_function['Point-A'], point)\n",
        "    corss_product = np.cross(tf_vector, point_vector)\n",
        "    sign = np.sign(corss_product)\n",
        "    res.append({\n",
        "        'coordinates': {\n",
        "            'x': point[0],\n",
        "            'y': point[1]\n",
        "        },\n",
        "        'classification': sign,\n",
        "        'color': 'green' if sign > 0 else ('red' if sign < 0 else 'blue'),\n",
        "    })\n",
        "  \n",
        "  return res;\n",
        "\n"
      ],
      "metadata": {
        "id": "uz_5kfmkv9zT"
      },
      "execution_count": null,
      "outputs": []
    },
    {
      "cell_type": "code",
      "source": [
        "def useTargetFunction(n):\n",
        "  '''\n",
        "    Recieve size of data and return a dictionary with:\n",
        "    {\n",
        "      target_function: {\n",
        "        point_a,\n",
        "        point_b\n",
        "      },\n",
        "      classified_points: {\n",
        "        coordinate: {\n",
        "          x: ...,\n",
        "          y: ...,\n",
        "        },\n",
        "        classification: -1 | +1\n",
        "        color: red | green\n",
        "      }\n",
        "    }\n",
        "  '''\n",
        "\n",
        "  # Define the tareget Function (my line)\n",
        "  target_function = generateTargetFunction()\n",
        "\n",
        "  # Given n random points (my data)\n",
        "  points = generatePoints(n)\n",
        "\n",
        "  # Classify this points as +1 ou -1 if above or not\n",
        "  classified_points = classify(target_function, points)\n",
        "\n",
        "  # Plot\n",
        "  plotGraph(target_function, classified_points)\n",
        "\n",
        "  return {\n",
        "      'target_function': target_function,\n",
        "      'classified_points': classified_points,\n",
        "  }"
      ],
      "metadata": {
        "id": "Z81Fze1uagEx"
      },
      "execution_count": null,
      "outputs": []
    },
    {
      "cell_type": "code",
      "source": [
        "res = useTargetFunction(200)"
      ],
      "metadata": {
        "colab": {
          "base_uri": "https://localhost:8080/",
          "height": 430
        },
        "id": "qSWiTpGEQudQ",
        "outputId": "2f93367c-08b3-4c31-c7b2-098bea3a59a4"
      },
      "execution_count": null,
      "outputs": [
        {
          "output_type": "display_data",
          "data": {
            "text/plain": [
              "<Figure size 640x480 with 1 Axes>"
            ],
            "image/png": "[encoded data removed]"
          },
          "metadata": {}
        }
      ]
    },
    {
      "cell_type": "markdown",
      "source": [
        "# Percpetron Learning Algorithm (PLA)"
      ],
      "metadata": {
        "id": "cQwfAzFpanvY"
      }
    },
    {
      "cell_type": "code",
      "source": [],
      "metadata": {
        "id": "P94067SManHr"
      },
      "execution_count": null,
      "outputs": []
    }
  ]
}